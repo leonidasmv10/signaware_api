{
 "cells": [
  {
   "cell_type": "code",
   "execution_count": 1,
   "id": "452a8d57",
   "metadata": {},
   "outputs": [
    {
     "name": "stdout",
     "output_type": "stream",
     "text": [
      "sys.path updated: ['c:\\\\Users\\\\yordy\\\\Documents\\\\dev\\\\bootcamp\\\\inteligencia_artificial\\\\keepcoding\\\\signaware', 'C:\\\\Program Files\\\\WindowsApps\\\\PythonSoftwareFoundation.Python.3.11_3.11.2544.0_x64__qbz5n2kfra8p0\\\\python311.zip', 'C:\\\\Program Files\\\\WindowsApps\\\\PythonSoftwareFoundation.Python.3.11_3.11.2544.0_x64__qbz5n2kfra8p0\\\\DLLs', 'C:\\\\Program Files\\\\WindowsApps\\\\PythonSoftwareFoundation.Python.3.11_3.11.2544.0_x64__qbz5n2kfra8p0\\\\Lib', 'C:\\\\Program Files\\\\WindowsApps\\\\PythonSoftwareFoundation.Python.3.11_3.11.2544.0_x64__qbz5n2kfra8p0', 'c:\\\\Users\\\\yordy\\\\Documents\\\\dev\\\\bootcamp\\\\inteligencia_artificial\\\\keepcoding\\\\signaware\\\\signaware_models\\\\env', '', 'c:\\\\Users\\\\yordy\\\\Documents\\\\dev\\\\bootcamp\\\\inteligencia_artificial\\\\keepcoding\\\\signaware\\\\signaware_models\\\\env\\\\Lib\\\\site-packages', 'c:\\\\Users\\\\yordy\\\\Documents\\\\dev\\\\bootcamp\\\\inteligencia_artificial\\\\keepcoding\\\\signaware\\\\signaware_models\\\\env\\\\Lib\\\\site-packages\\\\win32', 'c:\\\\Users\\\\yordy\\\\Documents\\\\dev\\\\bootcamp\\\\inteligencia_artificial\\\\keepcoding\\\\signaware\\\\signaware_models\\\\env\\\\Lib\\\\site-packages\\\\win32\\\\lib', 'c:\\\\Users\\\\yordy\\\\Documents\\\\dev\\\\bootcamp\\\\inteligencia_artificial\\\\keepcoding\\\\signaware\\\\signaware_models\\\\env\\\\Lib\\\\site-packages\\\\Pythonwin']\n"
     ]
    }
   ],
   "source": [
    "import os\n",
    "import sys\n",
    "\n",
    "notebook_dir = os.getcwd()\n",
    "project_root = os.path.abspath(os.path.join(notebook_dir, '..', '..', '..'))\n",
    "\n",
    "if project_root not in sys.path:\n",
    "    sys.path.insert(0, project_root)\n",
    "\n",
    "# Verify sys.path (optional, for debugging)\n",
    "print(\"sys.path updated:\", sys.path)"
   ]
  },
  {
   "cell_type": "code",
   "execution_count": null,
   "id": "fa93400a",
   "metadata": {},
   "outputs": [],
   "source": [
    "import logging\n",
    "from langchain_core.messages import HumanMessage\n",
    "from langgraph.graph import StateGraph, START, END\n",
    "from signaware_api.agent.workflow import create_workflow, get_initial_state"
   ]
  },
  {
   "cell_type": "code",
   "execution_count": null,
   "id": "3213cd8e",
   "metadata": {},
   "outputs": [],
   "source": [
    "workflow_graph = create_workflow()\n",
    "compiled_workflow = workflow_graph.compile()"
   ]
  },
  {
   "cell_type": "code",
   "execution_count": null,
   "id": "a3527093",
   "metadata": {},
   "outputs": [],
   "source": [
    "from signaware_api.agent.test.recorder import AudioRecorder\n",
    "recorder = AudioRecorder(duration=3)"
   ]
  },
  {
   "cell_type": "code",
   "execution_count": null,
   "id": "3ba719a9",
   "metadata": {},
   "outputs": [],
   "source": [
    "initial_state = get_initial_state()\n",
    "\n",
    "return_value = recorder.record_fragment()\n",
    "print(f\"DEBUG: record_fragment returned: {return_value} (Type: {type(return_value)})\")\n",
    "\n",
    "# Then attempt to unpack\n",
    "recorded_path, audio = return_value\n",
    "\n",
    "initial_state[\"audio_path\"] = recorded_path\n",
    "initial_state[\"audio_file\"] = audio\n",
    "initial_state[\"messages\"].append(HumanMessage(content=f\"Audio grabado en: {recorded_path}\"))\n",
    "    "
   ]
  },
  {
   "cell_type": "code",
   "execution_count": null,
   "id": "9b7a84b4",
   "metadata": {},
   "outputs": [],
   "source": [
    "final_state = compiled_workflow.invoke(initial_state)"
   ]
  },
  {
   "cell_type": "code",
   "execution_count": null,
   "id": "ac6b6ae6",
   "metadata": {},
   "outputs": [],
   "source": [
    "print(final_state.get(\"sound_type\", \"Unknown\"))\n",
    "print(final_state.get(\"is_conversation_detected\", False))\n",
    "print(final_state.get(\"transcription\", \"\"))\n",
    "print(final_state.get(\"sound_detections\", []))"
   ]
  },
  {
   "cell_type": "code",
   "execution_count": 4,
   "id": "7da62dd4",
   "metadata": {},
   "outputs": [
    {
     "data": {
      "text/plain": [
       "'HEARING_AIDS'"
      ]
     },
     "execution_count": 4,
     "metadata": {},
     "output_type": "execute_result"
    }
   ],
   "source": [
    "from signaware_api.agent.services.intention_classifier_service import IntentionClassifierService\n",
    "\n",
    "intent_classifier_service = IntentionClassifierService()\n",
    "\n",
    "intent_classifier_service.execute(\"Quiero buscar audifonos\")"
   ]
  }
 ],
 "metadata": {
  "kernelspec": {
   "display_name": "env",
   "language": "python",
   "name": "python3"
  },
  "language_info": {
   "codemirror_mode": {
    "name": "ipython",
    "version": 3
   },
   "file_extension": ".py",
   "mimetype": "text/x-python",
   "name": "python",
   "nbconvert_exporter": "python",
   "pygments_lexer": "ipython3",
   "version": "3.11.9"
  }
 },
 "nbformat": 4,
 "nbformat_minor": 5
}
