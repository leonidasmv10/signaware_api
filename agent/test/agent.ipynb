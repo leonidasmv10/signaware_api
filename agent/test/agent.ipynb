{
 "cells": [
  {
   "cell_type": "code",
   "execution_count": 1,
   "id": "452a8d57",
   "metadata": {},
   "outputs": [
    {
     "name": "stdout",
     "output_type": "stream",
     "text": [
      "sys.path updated: ['c:\\\\Users\\\\yordy\\\\Documents\\\\dev\\\\bootcamp\\\\inteligencia_artificial\\\\keepcoding\\\\signaware', 'C:\\\\Program Files\\\\WindowsApps\\\\PythonSoftwareFoundation.Python.3.11_3.11.2544.0_x64__qbz5n2kfra8p0\\\\python311.zip', 'C:\\\\Program Files\\\\WindowsApps\\\\PythonSoftwareFoundation.Python.3.11_3.11.2544.0_x64__qbz5n2kfra8p0\\\\DLLs', 'C:\\\\Program Files\\\\WindowsApps\\\\PythonSoftwareFoundation.Python.3.11_3.11.2544.0_x64__qbz5n2kfra8p0\\\\Lib', 'C:\\\\Program Files\\\\WindowsApps\\\\PythonSoftwareFoundation.Python.3.11_3.11.2544.0_x64__qbz5n2kfra8p0', 'c:\\\\Users\\\\yordy\\\\Documents\\\\dev\\\\bootcamp\\\\inteligencia_artificial\\\\keepcoding\\\\signaware\\\\signaware_api\\\\env', '', 'c:\\\\Users\\\\yordy\\\\Documents\\\\dev\\\\bootcamp\\\\inteligencia_artificial\\\\keepcoding\\\\signaware\\\\signaware_api\\\\env\\\\Lib\\\\site-packages', 'c:\\\\Users\\\\yordy\\\\Documents\\\\dev\\\\bootcamp\\\\inteligencia_artificial\\\\keepcoding\\\\signaware\\\\signaware_api\\\\env\\\\Lib\\\\site-packages\\\\win32', 'c:\\\\Users\\\\yordy\\\\Documents\\\\dev\\\\bootcamp\\\\inteligencia_artificial\\\\keepcoding\\\\signaware\\\\signaware_api\\\\env\\\\Lib\\\\site-packages\\\\win32\\\\lib', 'c:\\\\Users\\\\yordy\\\\Documents\\\\dev\\\\bootcamp\\\\inteligencia_artificial\\\\keepcoding\\\\signaware\\\\signaware_api\\\\env\\\\Lib\\\\site-packages\\\\Pythonwin']\n"
     ]
    }
   ],
   "source": [
    "import os\n",
    "import sys\n",
    "\n",
    "notebook_dir = os.getcwd()\n",
    "project_root = os.path.abspath(os.path.join(notebook_dir, '..', '..', '..'))\n",
    "\n",
    "if project_root not in sys.path:\n",
    "    sys.path.insert(0, project_root)\n",
    "\n",
    "# Verify sys.path (optional, for debugging)\n",
    "print(\"sys.path updated:\", sys.path)"
   ]
  },
  {
   "cell_type": "code",
   "execution_count": 15,
   "id": "fa93400a",
   "metadata": {},
   "outputs": [],
   "source": [
    "import logging\n",
    "from langchain_core.messages import HumanMessage\n",
    "from langgraph.graph import StateGraph, START, END\n",
    "from signaware_api.agent.workflow import create_workflow, get_initial_state"
   ]
  },
  {
   "cell_type": "code",
   "execution_count": 16,
   "id": "3213cd8e",
   "metadata": {},
   "outputs": [],
   "source": [
    "workflow_graph = create_workflow()\n",
    "compiled_workflow = workflow_graph.compile()"
   ]
  },
  {
   "cell_type": "code",
   "execution_count": 17,
   "id": "635f30e4",
   "metadata": {},
   "outputs": [],
   "source": [
    "import sounddevice as sd"
   ]
  },
  {
   "cell_type": "code",
   "execution_count": 18,
   "id": "a3527093",
   "metadata": {},
   "outputs": [],
   "source": [
    "from signaware_api.agent.test.recorder import AudioRecorder\n",
    "recorder = AudioRecorder(duration=3)"
   ]
  },
  {
   "cell_type": "code",
   "execution_count": 9,
   "id": "3ba719a9",
   "metadata": {},
   "outputs": [
    {
     "name": "stdout",
     "output_type": "stream",
     "text": [
      "🎙️ Grabando...\n",
      "✅ Guardado: audio_fragments\\fragmento_20250711_000442.wav\n",
      "DEBUG: Returning filename: audio_fragments\\fragmento_20250711_000442.wav (Type: <class 'str'>)\n",
      "DEBUG: Returning audio: (Type: <class 'numpy.ndarray'>, Shape: (48000, 1))\n",
      "DEBUG: record_fragment returned: ('audio_fragments\\\\fragmento_20250711_000442.wav', array([[ 0.        ],\n",
      "       [ 0.        ],\n",
      "       [ 0.        ],\n",
      "       ...,\n",
      "       [-0.00091553],\n",
      "       [-0.0027771 ],\n",
      "       [-0.00384521]], dtype=float32)) (Type: <class 'tuple'>)\n"
     ]
    }
   ],
   "source": [
    "initial_state = get_initial_state()\n",
    "\n",
    "return_value = recorder.record_fragment()\n",
    "print(f\"DEBUG: record_fragment returned: {return_value} (Type: {type(return_value)})\")\n",
    "\n",
    "# Then attempt to unpack\n",
    "recorded_path, audio = return_value\n",
    "\n",
    "initial_state[\"audio_path\"] = recorded_path\n",
    "initial_state[\"audio_file\"] = audio\n",
    "initial_state[\"messages\"].append(HumanMessage(content=f\"Audio grabado en: {recorded_path}\"))\n",
    "    "
   ]
  },
  {
   "cell_type": "code",
   "execution_count": 10,
   "id": "9b7a84b4",
   "metadata": {},
   "outputs": [
    {
     "name": "stderr",
     "output_type": "stream",
     "text": [
      "ERROR:signaware_api.agent.nodes:Error en save_uploaded_audio_node: The truth value of an array with more than one element is ambiguous. Use a.any() or a.all()\n",
      "ERROR:signaware_api.agent.nodes:Traceback completo:\n",
      "Traceback (most recent call last):\n",
      "  File \"c:\\Users\\yordy\\Documents\\dev\\bootcamp\\inteligencia_artificial\\keepcoding\\signaware\\signaware_api\\agent\\nodes.py\", line 54, in save_uploaded_audio_node\n",
      "    if not audio_file:\n",
      "ValueError: The truth value of an array with more than one element is ambiguous. Use a.any() or a.all()\n"
     ]
    }
   ],
   "source": [
    "final_state = compiled_workflow.invoke(initial_state)"
   ]
  },
  {
   "cell_type": "code",
   "execution_count": 11,
   "id": "ac6b6ae6",
   "metadata": {},
   "outputs": [
    {
     "name": "stdout",
     "output_type": "stream",
     "text": [
      "Speech\n",
      "True\n",
      "\n",
      "[('Speech', np.float32(0.4991795), 'unknown'), ('Silence', np.float32(0.3340472), 'unknown'), ('Mantra', np.float32(0.01643066), 'unknown')]\n"
     ]
    }
   ],
   "source": [
    "print(final_state.get(\"sound_type\", \"Unknown\"))\n",
    "print(final_state.get(\"is_conversation_detected\", False))\n",
    "print(final_state.get(\"transcription\", \"\"))\n",
    "print(final_state.get(\"sound_detections\", []))"
   ]
  },
  {
   "cell_type": "code",
   "execution_count": 24,
   "id": "7da62dd4",
   "metadata": {},
   "outputs": [
    {
     "ename": "ImportError",
     "evalue": "attempted relative import with no known parent package",
     "output_type": "error",
     "traceback": [
      "\u001b[31m---------------------------------------------------------------------------\u001b[39m",
      "\u001b[31mImportError\u001b[39m                               Traceback (most recent call last)",
      "\u001b[36mCell\u001b[39m\u001b[36m \u001b[39m\u001b[32mIn[24]\u001b[39m\u001b[32m, line 1\u001b[39m\n\u001b[32m----> \u001b[39m\u001b[32m1\u001b[39m \u001b[38;5;28;01mfrom\u001b[39;00m\u001b[38;5;250m \u001b[39m\u001b[34;01m.\u001b[39;00m\u001b[34;01m.\u001b[39;00m\u001b[34;01mservices\u001b[39;00m\u001b[34;01m.\u001b[39;00m\u001b[34;01mintention_classifier_service\u001b[39;00m\u001b[38;5;250m \u001b[39m\u001b[38;5;28;01mimport\u001b[39;00m IntentionClassifierService\n\u001b[32m      3\u001b[39m intent_classifier_service = IntentionClassifierService()\n\u001b[32m      5\u001b[39m intent_classifier_service.execute(\u001b[33m\"\u001b[39m\u001b[33mQuiero buscar audifonos\u001b[39m\u001b[33m\"\u001b[39m)\n",
      "\u001b[31mImportError\u001b[39m: attempted relative import with no known parent package"
     ]
    }
   ],
   "source": [
    "from ..services.intention_classifier_service import IntentionClassifierService\n",
    "\n",
    "intent_classifier_service = IntentionClassifierService()\n",
    "\n",
    "intent_classifier_service.execute(\"Quiero buscar audifonos\")"
   ]
  }
 ],
 "metadata": {
  "kernelspec": {
   "display_name": "env",
   "language": "python",
   "name": "python3"
  },
  "language_info": {
   "codemirror_mode": {
    "name": "ipython",
    "version": 3
   },
   "file_extension": ".py",
   "mimetype": "text/x-python",
   "name": "python",
   "nbconvert_exporter": "python",
   "pygments_lexer": "ipython3",
   "version": "3.11.9"
  }
 },
 "nbformat": 4,
 "nbformat_minor": 5
}
